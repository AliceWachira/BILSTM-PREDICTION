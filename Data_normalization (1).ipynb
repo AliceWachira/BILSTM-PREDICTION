{
  "cells": [
    {
      "cell_type": "code",
      "execution_count": null,
      "metadata": {
        "colab": {
          "base_uri": "https://localhost:8080/"
        },
        "id": "ktQHIq1yLVP2",
        "outputId": "fd964e15-d8d9-4732-b3e0-341113208b1b"
      },
      "outputs": [
        {
          "output_type": "stream",
          "name": "stdout",
          "text": [
            "Mounted at /content/gdrive\n"
          ]
        }
      ],
      "source": [
        "from google.colab import drive\n",
        "\n",
        "drive.mount('/content/gdrive')"
      ]
    },
    {
      "cell_type": "markdown",
      "source": [
        "\n",
        "\n",
        "---\n",
        "\n",
        "\n",
        "---\n",
        "\n",
        "\n",
        "\n",
        "\n",
        "## Importing important Libraries\n",
        "\n",
        "\n",
        "---\n",
        "\n",
        "\n",
        "---\n",
        "\n",
        "\n",
        "\n"
      ],
      "metadata": {
        "id": "zBDF0VZnel_B"
      }
    },
    {
      "cell_type": "code",
      "execution_count": null,
      "metadata": {
        "id": "dcPkqIxoLrYJ"
      },
      "outputs": [],
      "source": [
        "import pandas as pd\n",
        "import numpy as np\n",
        "import random\n",
        "import matplotlib.pyplot as plt\n",
        "import seaborn as sns"
      ]
    },
    {
      "cell_type": "code",
      "execution_count": null,
      "metadata": {
        "colab": {
          "base_uri": "https://localhost:8080/"
        },
        "id": "sVclvmuOLuUZ",
        "outputId": "50884697-931b-416a-bdb6-dacf855203ea"
      },
      "outputs": [
        {
          "output_type": "stream",
          "name": "stdout",
          "text": [
            "[Errno 2] No such file or directory: '/content/gdrive/MyDrive/AIMS ESSAY/Alice/Compute/Datasets'\n",
            "/content\n"
          ]
        }
      ],
      "source": [
        "cd '/content/gdrive/MyDrive/AIMS ESSAY/Alice/Compute/Datasets'"
      ]
    },
    {
      "cell_type": "code",
      "execution_count": null,
      "metadata": {
        "id": "gGiA6C6AL1sY"
      },
      "outputs": [],
      "source": [
        "import os, glob\n",
        "\n",
        "path = \"/content/gdrive/MyDrive/AIMS ESSAY/DATASET 1/LINK_CSV\"\n",
        "all_files = glob.glob(os.path.join(path, \"*.csv\"))\n",
        "linkId_files=[]\n",
        "\n",
        "for filename in all_files:\n",
        "  df = pd.read_csv(filename,sep=',')\n",
        "  linkId_files.append(df)"
      ]
    },
    {
      "cell_type": "code",
      "execution_count": null,
      "metadata": {
        "id": "gvnT0NXCMMG6"
      },
      "outputs": [],
      "source": [
        "## Defining a function that converts the date to datetime format, adds the month, day and week number in the dataframe.\n",
        "\n",
        "def date_week_day(file):\n",
        "  #file is the name of the csv file you desire\n",
        "  file['Date']=pd.to_datetime(file.Date, format='%Y-%m-%d')\n",
        "  #Adding the month column from date column\n",
        "  file['Month'] = pd.DatetimeIndex(file['Date']).month\n",
        "  file['Day'] = pd.DatetimeIndex(file['Date']).day\n",
        "  file['Weekday'] = file['Date'].dt.day_name()\n",
        "  file['week'] = file['Date'].dt.week\n",
        "  file.groupby(\n",
        "    file['Date'].dt.isocalendar().week\n",
        ").sum('quantity').rename_axis(index='week')\n",
        "  newfile=file.loc[file['Date'].between('2016-01-01','2016-12-31')]\n",
        "\n",
        "  #This will extract the month you want\n",
        "  #file_month=file.loc[file['Month']==month]\n",
        "  return newfile"
      ]
    },
    {
      "cell_type": "code",
      "execution_count": null,
      "metadata": {
        "id": "wqz1N80NMw5m"
      },
      "outputs": [],
      "source": [
        "dataframe=date_week_day(linkId_files[1])\n",
        "dataframe"
      ]
    },
    {
      "cell_type": "markdown",
      "metadata": {
        "id": "Hv7uMH3hxM2g"
      },
      "source": [
        "\n",
        "\n",
        "---\n",
        "\n",
        "---\n",
        "\n",
        "# **Subsampling procedures**\n",
        "\n",
        "\n",
        "---\n",
        "\n",
        "\n",
        "---\n",
        "\n",
        "\n",
        "\n",
        "---\n",
        "\n",
        "\n",
        "\n",
        "\n"
      ]
    },
    {
      "cell_type": "code",
      "execution_count": null,
      "metadata": {
        "id": "e2WtDrvWNYeb"
      },
      "outputs": [],
      "source": [
        "#ADDING THE DATETIME COLUMN\n",
        "dataframe.loc[:,'DateTime'] = pd.to_datetime(dataframe.Date.astype(str)+' '+dataframe.Time.astype(str))\n",
        "#ADDING THE MINUTES COLUMN\n",
        "dataframe['Minutes']=dataframe['DateTime'].dt.minute\n",
        "dataframe"
      ]
    },
    {
      "cell_type": "code",
      "execution_count": null,
      "metadata": {
        "id": "IbrIuB9jNhdo"
      },
      "outputs": [],
      "source": [
        "def interval_extraction(df,interval):\n",
        "  #ETRACTION OF THE MONTHLY DATA\n",
        "  #df1=df.loc[df['Month']==month]\n",
        "  #HOURLY SUBSAMPLING\n",
        "  df1=df[::interval]\n",
        "  return df1"
      ]
    },
    {
      "cell_type": "code",
      "execution_count": null,
      "metadata": {
        "id": "Opj71gGdN7LV"
      },
      "outputs": [],
      "source": [
        ""
      ]
    },
    {
      "cell_type": "markdown",
      "metadata": {
        "id": "7c9zPx5jN74J"
      },
      "source": [
        "### **FIVE MINUTES INTERVAL**"
      ]
    },
    {
      "cell_type": "code",
      "execution_count": null,
      "metadata": {
        "id": "JYTqAV6UN-tK"
      },
      "outputs": [],
      "source": [
        "fiveMin=dataframe"
      ]
    },
    {
      "cell_type": "markdown",
      "metadata": {
        "id": "2akPX46fuwQ5"
      },
      "source": [
        "### **TEN MINUTES INTERVAL**"
      ]
    },
    {
      "cell_type": "code",
      "execution_count": null,
      "metadata": {
        "id": "0KSySvsku1uI"
      },
      "outputs": [],
      "source": [
        "tenMin=interval_extraction(dataframe,2)"
      ]
    },
    {
      "cell_type": "markdown",
      "metadata": {
        "id": "s5aQ5j-4OG0B"
      },
      "source": [
        "## **THIRTY MINUTES INTERVAL**"
      ]
    },
    {
      "cell_type": "code",
      "execution_count": null,
      "metadata": {
        "id": "f78MAZZOOL1A"
      },
      "outputs": [],
      "source": [
        "thirtyMin=interval_extraction(dataframe,6)\n",
        "\n",
        "twentyMin=interval_extraction(dataframe,4)\n",
        "fiveteenMin=interval_extraction(dataframe,3)"
      ]
    },
    {
      "cell_type": "markdown",
      "metadata": {
        "id": "izf4Jv0tNr4L"
      },
      "source": [
        "## **HOURLY EXTRACTION**"
      ]
    },
    {
      "cell_type": "code",
      "execution_count": null,
      "metadata": {
        "id": "4EskWHFoNorS"
      },
      "outputs": [],
      "source": [
        "hourly=interval_extraction(dataframe,12)"
      ]
    },
    {
      "cell_type": "markdown",
      "metadata": {
        "id": "UDpZ-6FjOf4B"
      },
      "source": [
        "# **NORMALIZATION OF SPEED DATA**"
      ]
    },
    {
      "cell_type": "code",
      "execution_count": null,
      "metadata": {
        "id": "zG2Ky5iqM-wr"
      },
      "outputs": [],
      "source": [
        "#NORMALIZATION OF THE SPEED DATA\n",
        "def ReScale(data, a):\n",
        "    data_avg = data.mean()\n",
        "    scaled_data = a*(data - data_avg)\n",
        "    return scaled_data "
      ]
    },
    {
      "cell_type": "code",
      "execution_count": null,
      "metadata": {
        "colab": {
          "base_uri": "https://localhost:8080/",
          "height": 283
        },
        "id": "Yy_bMNeTPIos",
        "outputId": "bbf58cf5-dd76-48eb-95dc-74ad9ed4a1e8"
      },
      "outputs": [
        {
          "output_type": "execute_result",
          "data": {
            "text/plain": [
              "[<matplotlib.lines.Line2D at 0x7f46a5fd50d0>]"
            ]
          },
          "metadata": {},
          "execution_count": 14
        },
        {
          "output_type": "display_data",
          "data": {
            "text/plain": [
              "<Figure size 432x288 with 1 Axes>"
            ],
            "image/png": "[encoded data removed]"
          },
          "metadata": {
            "needs_background": "light"
          }
        }
      ],
      "source": [
        "plt.plot(ReScale(twentyMin['Speed'],1))"
      ]
    },
    {
      "cell_type": "code",
      "execution_count": null,
      "metadata": {
        "colab": {
          "base_uri": "https://localhost:8080/",
          "height": 283
        },
        "id": "FgrmVfzEPZ6X",
        "outputId": "df82fc4f-5bf0-4cb6-8034-5e8fa76e0192"
      },
      "outputs": [
        {
          "output_type": "execute_result",
          "data": {
            "text/plain": [
              "[<matplotlib.lines.Line2D at 0x7f46a60c2d10>]"
            ]
          },
          "metadata": {},
          "execution_count": 16
        },
        {
          "output_type": "display_data",
          "data": {
            "text/plain": [
              "<Figure size 432x288 with 1 Axes>"
            ],
            "image/png": "[encoded data removed]"
          },
          "metadata": {
            "needs_background": "light"
          }
        }
      ],
      "source": [
        "plt.plot(ReScale(twentyMin['TravelTime'],1/1000))"
      ]
    },
    {
      "cell_type": "code",
      "execution_count": null,
      "metadata": {
        "colab": {
          "base_uri": "https://localhost:8080/",
          "height": 637
        },
        "id": "-bqi4T1lP7oo",
        "outputId": "38ce4374-5359-437b-d930-9ac2b274e89d"
      },
      "outputs": [
        {
          "output_type": "stream",
          "name": "stderr",
          "text": [
            "/usr/local/lib/python3.7/dist-packages/ipykernel_launcher.py:2: SettingWithCopyWarning: \n",
            "A value is trying to be set on a copy of a slice from a DataFrame.\n",
            "Try using .loc[row_indexer,col_indexer] = value instead\n",
            "\n",
            "See the caveats in the documentation: https://pandas.pydata.org/pandas-docs/stable/user_guide/indexing.html#returning-a-view-versus-a-copy\n",
            "  \n",
            "/usr/local/lib/python3.7/dist-packages/ipykernel_launcher.py:3: SettingWithCopyWarning: \n",
            "A value is trying to be set on a copy of a slice from a DataFrame.\n",
            "Try using .loc[row_indexer,col_indexer] = value instead\n",
            "\n",
            "See the caveats in the documentation: https://pandas.pydata.org/pandas-docs/stable/user_guide/indexing.html#returning-a-view-versus-a-copy\n",
            "  This is separate from the ipykernel package so we can avoid doing imports until\n"
          ]
        },
        {
          "output_type": "execute_result",
          "data": {
            "text/plain": [
              "       Speed  TravelTime   linkId       Id       Date      Time  Month  Day  \\\n",
              "0      59.03          64  4616356  3946540 2016-01-01  00:01:02      1    1   \n",
              "2      60.89          62  4616356  3946851 2016-01-01  00:11:02      1    1   \n",
              "4      60.89          62  4616356  3947104 2016-01-01  00:21:02      1    1   \n",
              "6      60.27          63  4616356  3947346 2016-01-01  00:31:02      1    1   \n",
              "8      59.03          64  4616356  3947592 2016-01-01  00:41:02      1    1   \n",
              "...      ...         ...      ...      ...        ...       ...    ...  ...   \n",
              "98168  55.30          68  4616356  2812793 2016-12-31  23:11:06     12   31   \n",
              "98170  52.20          73  4616356  2813018 2016-12-31  23:21:07     12   31   \n",
              "98172  57.17          66  4616356  2813258 2016-12-31  23:31:07     12   31   \n",
              "98174  57.17          66  4616356  2813492 2016-12-31  23:41:06     12   31   \n",
              "98176  55.30          68  4616356  2813727 2016-12-31  23:51:07     12   31   \n",
              "\n",
              "        Weekday  week            DateTime  Minutes  norm_speed  \\\n",
              "0        Friday    53 2016-01-01 00:01:02        1    0.129165   \n",
              "2        Friday    53 2016-01-01 00:11:02       11    0.147765   \n",
              "4        Friday    53 2016-01-01 00:21:02       21    0.147765   \n",
              "6        Friday    53 2016-01-01 00:31:02       31    0.141565   \n",
              "8        Friday    53 2016-01-01 00:41:02       41    0.129165   \n",
              "...         ...   ...                 ...      ...         ...   \n",
              "98168  Saturday    52 2016-12-31 23:11:06       11    0.091865   \n",
              "98170  Saturday    52 2016-12-31 23:21:07       21    0.060865   \n",
              "98172  Saturday    52 2016-12-31 23:31:07       31    0.110565   \n",
              "98174  Saturday    52 2016-12-31 23:41:06       41    0.110565   \n",
              "98176  Saturday    52 2016-12-31 23:51:07       51    0.091865   \n",
              "\n",
              "       norm_travelTime  \n",
              "0            -0.041315  \n",
              "2            -0.043315  \n",
              "4            -0.043315  \n",
              "6            -0.042315  \n",
              "8            -0.041315  \n",
              "...                ...  \n",
              "98168        -0.037315  \n",
              "98170        -0.032315  \n",
              "98172        -0.039315  \n",
              "98174        -0.039315  \n",
              "98176        -0.037315  \n",
              "\n",
              "[49089 rows x 14 columns]"
            ],
            "text/html": [
              "\n",
              "  <div id=\"df-173b4f77-2255-40ca-b916-fbe7ab5e3ac2\">\n",
              "    <div class=\"colab-df-container\">\n",
              "      <div>\n",
              "<style scoped>\n",
              "    .dataframe tbody tr th:only-of-type {\n",
              "        vertical-align: middle;\n",
              "    }\n",
              "\n",
              "    .dataframe tbody tr th {\n",
              "        vertical-align: top;\n",
              "    }\n",
              "\n",
              "    .dataframe thead th {\n",
              "        text-align: right;\n",
              "    }\n",
              "</style>\n",
              "<table border=\"1\" class=\"dataframe\">\n",
              "  <thead>\n",
              "    <tr style=\"text-align: right;\">\n",
              "      <th></th>\n",
              "      <th>Speed</th>\n",
              "      <th>TravelTime</th>\n",
              "      <th>linkId</th>\n",
              "      <th>Id</th>\n",
              "      <th>Date</th>\n",
              "      <th>Time</th>\n",
              "      <th>Month</th>\n",
              "      <th>Day</th>\n",
              "      <th>Weekday</th>\n",
              "      <th>week</th>\n",
              "      <th>DateTime</th>\n",
              "      <th>Minutes</th>\n",
              "      <th>norm_speed</th>\n",
              "      <th>norm_travelTime</th>\n",
              "    </tr>\n",
              "  </thead>\n",
              "  <tbody>\n",
              "    <tr>\n",
              "      <th>0</th>\n",
              "      <td>59.03</td>\n",
              "      <td>64</td>\n",
              "      <td>4616356</td>\n",
              "      <td>3946540</td>\n",
              "      <td>2016-01-01</td>\n",
              "      <td>00:01:02</td>\n",
              "      <td>1</td>\n",
              "      <td>1</td>\n",
              "      <td>Friday</td>\n",
              "      <td>53</td>\n",
              "      <td>2016-01-01 00:01:02</td>\n",
              "      <td>1</td>\n",
              "      <td>0.129165</td>\n",
              "      <td>-0.041315</td>\n",
              "    </tr>\n",
              "    <tr>\n",
              "      <th>2</th>\n",
              "      <td>60.89</td>\n",
              "      <td>62</td>\n",
              "      <td>4616356</td>\n",
              "      <td>3946851</td>\n",
              "      <td>2016-01-01</td>\n",
              "      <td>00:11:02</td>\n",
              "      <td>1</td>\n",
              "      <td>1</td>\n",
              "      <td>Friday</td>\n",
              "      <td>53</td>\n",
              "      <td>2016-01-01 00:11:02</td>\n",
              "      <td>11</td>\n",
              "      <td>0.147765</td>\n",
              "      <td>-0.043315</td>\n",
              "    </tr>\n",
              "    <tr>\n",
              "      <th>4</th>\n",
              "      <td>60.89</td>\n",
              "      <td>62</td>\n",
              "      <td>4616356</td>\n",
              "      <td>3947104</td>\n",
              "      <td>2016-01-01</td>\n",
              "      <td>00:21:02</td>\n",
              "      <td>1</td>\n",
              "      <td>1</td>\n",
              "      <td>Friday</td>\n",
              "      <td>53</td>\n",
              "      <td>2016-01-01 00:21:02</td>\n",
              "      <td>21</td>\n",
              "      <td>0.147765</td>\n",
              "      <td>-0.043315</td>\n",
              "    </tr>\n",
              "    <tr>\n",
              "      <th>6</th>\n",
              "      <td>60.27</td>\n",
              "      <td>63</td>\n",
              "      <td>4616356</td>\n",
              "      <td>3947346</td>\n",
              "      <td>2016-01-01</td>\n",
              "      <td>00:31:02</td>\n",
              "      <td>1</td>\n",
              "      <td>1</td>\n",
              "      <td>Friday</td>\n",
              "      <td>53</td>\n",
              "      <td>2016-01-01 00:31:02</td>\n",
              "      <td>31</td>\n",
              "      <td>0.141565</td>\n",
              "      <td>-0.042315</td>\n",
              "    </tr>\n",
              "    <tr>\n",
              "      <th>8</th>\n",
              "      <td>59.03</td>\n",
              "      <td>64</td>\n",
              "      <td>4616356</td>\n",
              "      <td>3947592</td>\n",
              "      <td>2016-01-01</td>\n",
              "      <td>00:41:02</td>\n",
              "      <td>1</td>\n",
              "      <td>1</td>\n",
              "      <td>Friday</td>\n",
              "      <td>53</td>\n",
              "      <td>2016-01-01 00:41:02</td>\n",
              "      <td>41</td>\n",
              "      <td>0.129165</td>\n",
              "      <td>-0.041315</td>\n",
              "    </tr>\n",
              "    <tr>\n",
              "      <th>...</th>\n",
              "      <td>...</td>\n",
              "      <td>...</td>\n",
              "      <td>...</td>\n",
              "      <td>...</td>\n",
              "      <td>...</td>\n",
              "      <td>...</td>\n",
              "      <td>...</td>\n",
              "      <td>...</td>\n",
              "      <td>...</td>\n",
              "      <td>...</td>\n",
              "      <td>...</td>\n",
              "      <td>...</td>\n",
              "      <td>...</td>\n",
              "      <td>...</td>\n",
              "    </tr>\n",
              "    <tr>\n",
              "      <th>98168</th>\n",
              "      <td>55.30</td>\n",
              "      <td>68</td>\n",
              "      <td>4616356</td>\n",
              "      <td>2812793</td>\n",
              "      <td>2016-12-31</td>\n",
              "      <td>23:11:06</td>\n",
              "      <td>12</td>\n",
              "      <td>31</td>\n",
              "      <td>Saturday</td>\n",
              "      <td>52</td>\n",
              "      <td>2016-12-31 23:11:06</td>\n",
              "      <td>11</td>\n",
              "      <td>0.091865</td>\n",
              "      <td>-0.037315</td>\n",
              "    </tr>\n",
              "    <tr>\n",
              "      <th>98170</th>\n",
              "      <td>52.20</td>\n",
              "      <td>73</td>\n",
              "      <td>4616356</td>\n",
              "      <td>2813018</td>\n",
              "      <td>2016-12-31</td>\n",
              "      <td>23:21:07</td>\n",
              "      <td>12</td>\n",
              "      <td>31</td>\n",
              "      <td>Saturday</td>\n",
              "      <td>52</td>\n",
              "      <td>2016-12-31 23:21:07</td>\n",
              "      <td>21</td>\n",
              "      <td>0.060865</td>\n",
              "      <td>-0.032315</td>\n",
              "    </tr>\n",
              "    <tr>\n",
              "      <th>98172</th>\n",
              "      <td>57.17</td>\n",
              "      <td>66</td>\n",
              "      <td>4616356</td>\n",
              "      <td>2813258</td>\n",
              "      <td>2016-12-31</td>\n",
              "      <td>23:31:07</td>\n",
              "      <td>12</td>\n",
              "      <td>31</td>\n",
              "      <td>Saturday</td>\n",
              "      <td>52</td>\n",
              "      <td>2016-12-31 23:31:07</td>\n",
              "      <td>31</td>\n",
              "      <td>0.110565</td>\n",
              "      <td>-0.039315</td>\n",
              "    </tr>\n",
              "    <tr>\n",
              "      <th>98174</th>\n",
              "      <td>57.17</td>\n",
              "      <td>66</td>\n",
              "      <td>4616356</td>\n",
              "      <td>2813492</td>\n",
              "      <td>2016-12-31</td>\n",
              "      <td>23:41:06</td>\n",
              "      <td>12</td>\n",
              "      <td>31</td>\n",
              "      <td>Saturday</td>\n",
              "      <td>52</td>\n",
              "      <td>2016-12-31 23:41:06</td>\n",
              "      <td>41</td>\n",
              "      <td>0.110565</td>\n",
              "      <td>-0.039315</td>\n",
              "    </tr>\n",
              "    <tr>\n",
              "      <th>98176</th>\n",
              "      <td>55.30</td>\n",
              "      <td>68</td>\n",
              "      <td>4616356</td>\n",
              "      <td>2813727</td>\n",
              "      <td>2016-12-31</td>\n",
              "      <td>23:51:07</td>\n",
              "      <td>12</td>\n",
              "      <td>31</td>\n",
              "      <td>Saturday</td>\n",
              "      <td>52</td>\n",
              "      <td>2016-12-31 23:51:07</td>\n",
              "      <td>51</td>\n",
              "      <td>0.091865</td>\n",
              "      <td>-0.037315</td>\n",
              "    </tr>\n",
              "  </tbody>\n",
              "</table>\n",
              "<p>49089 rows × 14 columns</p>\n",
              "</div>\n",
              "      <button class=\"colab-df-convert\" onclick=\"convertToInteractive('df-173b4f77-2255-40ca-b916-fbe7ab5e3ac2')\"\n",
              "              title=\"Convert this dataframe to an interactive table.\"\n",
              "              style=\"display:none;\">\n",
              "        \n",
              "  <svg xmlns=\"http://www.w3.org/2000/svg\" height=\"24px\"viewBox=\"0 0 24 24\"\n",
              "       width=\"24px\">\n",
              "    <path d=\"M0 0h24v24H0V0z\" fill=\"none\"/>\n",
              "    <path d=\"M18.56 5.44l.94 2.06.94-2.06 2.06-.94-2.06-.94-.94-2.06-.94 2.06-2.06.94zm-11 1L8.5 8.5l.94-2.06 2.06-.94-2.06-.94L8.5 2.5l-.94 2.06-2.06.94zm10 10l.94 2.06.94-2.06 2.06-.94-2.06-.94-.94-2.06-.94 2.06-2.06.94z\"/><path d=\"M17.41 7.96l-1.37-1.37c-.4-.4-.92-.59-1.43-.59-.52 0-1.04.2-1.43.59L10.3 9.45l-7.72 7.72c-.78.78-.78 2.05 0 2.83L4 21.41c.39.39.9.59 1.41.59.51 0 1.02-.2 1.41-.59l7.78-7.78 2.81-2.81c.8-.78.8-2.07 0-2.86zM5.41 20L4 18.59l7.72-7.72 1.47 1.35L5.41 20z\"/>\n",
              "  </svg>\n",
              "      </button>\n",
              "      \n",
              "  <style>\n",
              "    .colab-df-container {\n",
              "      display:flex;\n",
              "      flex-wrap:wrap;\n",
              "      gap: 12px;\n",
              "    }\n",
              "\n",
              "    .colab-df-convert {\n",
              "      background-color: #E8F0FE;\n",
              "      border: none;\n",
              "      border-radius: 50%;\n",
              "      cursor: pointer;\n",
              "      display: none;\n",
              "      fill: #1967D2;\n",
              "      height: 32px;\n",
              "      padding: 0 0 0 0;\n",
              "      width: 32px;\n",
              "    }\n",
              "\n",
              "    .colab-df-convert:hover {\n",
              "      background-color: #E2EBFA;\n",
              "      box-shadow: 0px 1px 2px rgba(60, 64, 67, 0.3), 0px 1px 3px 1px rgba(60, 64, 67, 0.15);\n",
              "      fill: #174EA6;\n",
              "    }\n",
              "\n",
              "    [theme=dark] .colab-df-convert {\n",
              "      background-color: #3B4455;\n",
              "      fill: #D2E3FC;\n",
              "    }\n",
              "\n",
              "    [theme=dark] .colab-df-convert:hover {\n",
              "      background-color: #434B5C;\n",
              "      box-shadow: 0px 1px 3px 1px rgba(0, 0, 0, 0.15);\n",
              "      filter: drop-shadow(0px 1px 2px rgba(0, 0, 0, 0.3));\n",
              "      fill: #FFFFFF;\n",
              "    }\n",
              "  </style>\n",
              "\n",
              "      <script>\n",
              "        const buttonEl =\n",
              "          document.querySelector('#df-173b4f77-2255-40ca-b916-fbe7ab5e3ac2 button.colab-df-convert');\n",
              "        buttonEl.style.display =\n",
              "          google.colab.kernel.accessAllowed ? 'block' : 'none';\n",
              "\n",
              "        async function convertToInteractive(key) {\n",
              "          const element = document.querySelector('#df-173b4f77-2255-40ca-b916-fbe7ab5e3ac2');\n",
              "          const dataTable =\n",
              "            await google.colab.kernel.invokeFunction('convertToInteractive',\n",
              "                                                     [key], {});\n",
              "          if (!dataTable) return;\n",
              "\n",
              "          const docLinkHtml = 'Like what you see? Visit the ' +\n",
              "            '<a target=\"_blank\" href=https://colab.research.google.com/notebooks/data_table.ipynb>data table notebook</a>'\n",
              "            + ' to learn more about interactive tables.';\n",
              "          element.innerHTML = '';\n",
              "          dataTable['output_type'] = 'display_data';\n",
              "          await google.colab.output.renderOutput(dataTable, element);\n",
              "          const docLink = document.createElement('div');\n",
              "          docLink.innerHTML = docLinkHtml;\n",
              "          element.appendChild(docLink);\n",
              "        }\n",
              "      </script>\n",
              "    </div>\n",
              "  </div>\n",
              "  "
            ]
          },
          "metadata": {},
          "execution_count": 19
        }
      ],
      "source": [
        "#NORMALIZING THE SPEED AND TRAVEL TIME DATA\n",
        "\n",
        "#NORMALIZATION OF THE SPEED DATA\n",
        "def ReScale(data, a):\n",
        "    data_avg = data.mean()\n",
        "    scaled_data = a*(data - data_avg)\n",
        "    return scaled_data \n",
        "\n",
        "tenMin['norm_speed'] = ReScale(tenMin['Speed'],1/100)\n",
        "tenMin['norm_travelTime'] = ReScale(tenMin['TravelTime'],1/1000)\n",
        "tenMin"
      ]
    },
    {
      "cell_type": "code",
      "execution_count": null,
      "metadata": {
        "id": "y9qOWbnaRB85"
      },
      "outputs": [],
      "source": [
        "#SAVING THE NORMALIZED CSV FILE DATA \n",
        "fiveteenMin.to_csv(\"fiveteen_norm_path_4616356.csv\",index=False)"
      ]
    }
  ],
  "metadata": {
    "colab": {
      "collapsed_sections": [],
      "name": "Data normalization.ipynb",
      "provenance": []
    },
    "kernelspec": {
      "display_name": "Python 3",
      "name": "python3"
    },
    "language_info": {
      "name": "python"
    }
  },
  "nbformat": 4,
  "nbformat_minor": 0
}